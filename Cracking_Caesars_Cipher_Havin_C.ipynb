{
  "nbformat": 4,
  "nbformat_minor": 0,
  "metadata": {
    "colab": {
      "provenance": [],
      "authorship_tag": "ABX9TyNoH6Ow5z5s23f17BPY9mq5",
      "include_colab_link": true
    },
    "kernelspec": {
      "name": "python3",
      "display_name": "Python 3"
    },
    "language_info": {
      "name": "python"
    }
  },
  "cells": [
    {
      "cell_type": "markdown",
      "metadata": {
        "id": "view-in-github",
        "colab_type": "text"
      },
      "source": [
        "<a href=\"https://colab.research.google.com/github/havin89/Cracking-Caesars-Cipher-Havin-C/blob/main/Cracking_Caesars_Cipher_Havin_C.ipynb\" target=\"_parent\"><img src=\"https://colab.research.google.com/assets/colab-badge.svg\" alt=\"Open In Colab\"/></a>"
      ]
    },
    {
      "cell_type": "code",
      "execution_count": null,
      "metadata": {
        "id": "onnTwsX9_5fn"
      },
      "outputs": [],
      "source": [
        "#This program is the starter code for the Cracking Caesar's Cipher Project.\n",
        "# This code is inspired by Cracking Codes with Python: An Introduction to Building and Breaking Ciphers by Al Sweigart https://www.nostarch.com/crackingcodes (BSD Licensed)\n",
        "\n",
        "import string\n",
        "\n",
        "# Global variables\n",
        "initialPosition = 0\n",
        "shiftedPosition = 0\n",
        "lettersLower = string.ascii_lowercase\n",
        "lettersUpper = string.ascii_uppercase\n",
        "numbers = string.digits\n",
        "symbols = string.punctuation\n",
        "possibleCharacters = lettersLower + lettersUpper + numbers + symbols\n",
        "\n",
        "\n",
        "# Define the function called decrypt\n",
        "def decrypt():\n",
        "  global shiftedPosition\n",
        "  shiftedPosition = initialPosition - key\n",
        "\n",
        "# Define the function called wraparound\n",
        "def wraparound():\n",
        "  global shiftedPosition\n",
        "  if shiftedPosition < 0:\n",
        "    shiftedPosition = shiftedPosition + len(possibleCharacters)\n",
        "\n",
        "# Run code\n",
        "\n",
        "# Introduction\n",
        "print(\"Welcome! This program will crack the Caesar cipher and figure out any secret message that was encrypted with the Caesar cipher. Type in your encrypted message and this program will print all of the key possibilities of your message below. \\n\\nYour message can only include the following characters: \" + possibleCharacters + \"\\n\\n\")\n",
        "\n",
        "# Receive user input\n",
        "initialMessage = input(\"What is your encrypted message?: \")\n",
        "input(\"\\nPress enter to generate all of the key possibilities for your encrypted message: \\n\")\n",
        "\n",
        "# Cycle through all possible keys\n",
        "for key in range(len(possibleCharacters)):\n",
        "  shiftedMessage = \"\"\n",
        "\n",
        "\n",
        "  # Decrypt the message\n",
        "  for character in initialMessage:\n",
        "    if character in possibleCharacters:\n",
        "      initialPosition = possibleCharacters.find(character)\n",
        "      decrypt()\n",
        "      wraparound()\n",
        "\n",
        "      shiftedMessage = shiftedMessage + possibleCharacters[shiftedPosition]\n",
        "\n",
        "    else:\n",
        "      shiftedMessage = shiftedMessage + character\n",
        "\n",
        "  # Print the shifted message\n",
        "  print(\"Key #%s: %s\" % (key, shiftedMessage))\n",
        "\n",
        "# Closing message\n",
        "print(\"\\nNow scroll through all of the key possibilities above and find the readable plaintext message.\")"
      ]
    }
  ]
}